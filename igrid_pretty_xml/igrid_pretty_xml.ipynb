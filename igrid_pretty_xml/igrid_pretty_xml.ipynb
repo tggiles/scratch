{
 "cells": [
  {
   "cell_type": "code",
   "execution_count": 1,
   "metadata": {},
   "outputs": [],
   "source": [
    "import lxml.etree as etree\n",
    "import os\n",
    "     \n",
    "def indent(elem, level=0):\n",
    "    tab = \"    \"\n",
    "    i = \"\\n\" + level*tab\n",
    "    if len(elem):\n",
    "        if not elem.text or not elem.text.strip():\n",
    "            elem.text = i + tab\n",
    "        if not elem.tail or not elem.tail.strip():\n",
    "            elem.tail = i\n",
    "        for elem in elem:\n",
    "            indent(elem, level+1)\n",
    "        if not elem.tail or not elem.tail.strip():\n",
    "            elem.tail = i\n",
    "    else:\n",
    "        if level and (not elem.tail or not elem.tail.strip()):\n",
    "            elem.tail = i\n",
    "            \n",
    "def parseIndent(inpath, outpath, xmlfile):\n",
    "    parser = etree.XMLParser(resolve_entities=False, strip_cdata=False, recover=True)\n",
    "    document = etree.parse(os.path.join(inpath,xmlfile), parser)\n",
    "    root = document.getroot()\n",
    "    indent(root)\n",
    "    \n",
    "    Query = root.find(\".//{http://www.areva.com/DataBindingMap2.xsd}Query\")\n",
    "    if Query is not None:\n",
    "        qroot = etree.XML(bytes(bytearray(Query.text, encoding='utf-8')))\n",
    "        indent(qroot, level=5)\n",
    "        Query.text=etree.tostring(qroot, encoding='utf-8', xml_declaration=True)\n",
    "        \n",
    "    Values = root.findall(\".//Value\")\n",
    "    if Values:\n",
    "        for Value in Values:\n",
    "            vroot = etree.XML(bytes(bytearray(Value.text, encoding='utf-16')))\n",
    "            indent(vroot, level=6)\n",
    "            Value.text=etree.tostring(vroot, encoding='utf-8', xml_declaration=True)\n",
    "            \n",
    "    if not os.path.isdir(outpath): os.mkdir(outpath)\n",
    "    document.write(os.path.join(outpath,xmlfile), pretty_print=True, encoding='utf-8', xml_declaration=True, standalone='yes')\n",
    "    \n",
    "def parseIgrids(inpath,outpath):\n",
    "    for root, dirs, files in os.walk(inpath, topdown=False):\n",
    "        for file in files:\n",
    "            if file.endswith(\".grid\"):\n",
    "                parseIndent(root, os.path.join(outpath,os.path.basename(root)), file)"
   ]
  },
  {
   "cell_type": "code",
   "execution_count": null,
   "metadata": {
    "scrolled": false
   },
   "outputs": [],
   "source": [
    "X = parseIndent(\"C:\\DATA\\Engineering_Support\\Tools\\EMS\\local_display\\mydisplays\\displays\\smtnet\",\"./igrid_cleaned/\",\"smtnet_mtos_ems1.grid\")"
   ]
  },
  {
   "cell_type": "code",
   "execution_count": null,
   "metadata": {},
   "outputs": [],
   "source": [
    "Y = parseIgrids(\"C:/DATA/Source/rtes/igrid\",\"./igrid_cleaned/\")"
   ]
  },
  {
   "cell_type": "code",
   "execution_count": null,
   "metadata": {},
   "outputs": [],
   "source": [
    "Z = parseIgrids(\"C:\\DATA\\Engineering_Support\\Tools\\EMS\\local_display\\mydisplays\\displays\",\"./igrid_cleaned/\")"
   ]
  },
  {
   "cell_type": "code",
   "execution_count": 2,
   "metadata": {},
   "outputs": [],
   "source": [
    "Z = parseIgrids(\"C:/DATA/Source/rtes/ems/psa/\",\"./igrid_cleaned/\")"
   ]
  }
 ],
 "metadata": {
  "kernelspec": {
   "display_name": "Python 3",
   "language": "python",
   "name": "python3"
  },
  "language_info": {
   "codemirror_mode": {
    "name": "ipython",
    "version": 3
   },
   "file_extension": ".py",
   "mimetype": "text/x-python",
   "name": "python",
   "nbconvert_exporter": "python",
   "pygments_lexer": "ipython3",
   "version": "3.7.0"
  }
 },
 "nbformat": 4,
 "nbformat_minor": 2
}
