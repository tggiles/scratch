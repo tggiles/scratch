{
 "cells": [
  {
   "cell_type": "code",
   "execution_count": 1,
   "metadata": {},
   "outputs": [],
   "source": [
    "import xmlformatter"
   ]
  },
  {
   "cell_type": "code",
   "execution_count": 7,
   "metadata": {},
   "outputs": [
    {
     "data": {
      "text/plain": [
       "b'<?xml version=\"1.0\" encoding=\"ISO-8859-1\" standalone=\"yes\"?>\\n<GridDisplayDefinition>\\n  <GridName></GridName>\\n  <RootTableName>smtnet_tp_area_matrix</RootTableName>\\n  <DataMap xmlns=\"http://www.areva.com/DataBindingMap2.xsd\" xmlns:xsd=\"http://www.w3.org/2001/XMLSchema\" xmlns:xsi=\"http://www.w3.org/2001/XMLSchema-instance\">\\n    <DataBinding>\\n      <WebFgQuery>\\n        <Name>smtnet_tp_area_matrix</Name>\\n        <ReadWrite>ReadWrite</ReadWrite>\\n        <GroupingEnabled>false</GroupingEnabled>\\n        <Query>&lt;?xml version=\"1.0\" encoding=\"utf-8\"?> &lt;qns:repeatQuery guid=\"bec5267a-7478-4484-a445-5520c239506e\" refresh=\"2\" drivingRec=\"app[@name=\\\\\\'SMTNET\\\\\\']/db[@name=\\\\\\'SMTNET\\\\\\']/rec[@name=\\\\\\'MTAREA\\\\\\']\" xmlns:qns=\"uuid:14F5F723-831B-46c8-AF5F-0E0D69315B6F\"> &lt;app name=\"SMTNET\"> &lt;db name=\"SMTNET\"> &lt;rec name=\"MTAREA\"> &lt;fld name=\"AWR\" /> &lt;fld name=\"COMP\" /> &lt;fld name=\"I__TPNT\" /> &lt;fld name=\"ID\" /> &lt;fld name=\"LFVAL\" /> &lt;fld name=\"Q\" /> &lt;fld name=\"RTWTR\" /> &lt;fld name=\"TOTGEN\" /> &lt;fld name=\"I__TPNT\" dateFmt=\"Full\" > &lt;indFld name=\"TIME\" /> &lt;/fld> &lt;/rec> &lt;/db> &lt;/app> &lt;recGroup name=\"MTAREA\"> &lt;recGroupPart rec=\"app[@name=\\\\\\'SMTNET\\\\\\']/db[@name=\\\\\\'SMTNET\\\\\\']/rec[@name=\\\\\\'MTAREA\\\\\\']\" /> &lt;/recGroup> &lt;/qns:repeatQuery> &lt;!-- family=EMS --></Query>\\n        <DataEntryApplication></DataEntryApplication>\\n        <AppDependent AppType=\"DISAPP\"></AppDependent>\\n      </WebFgQuery>\\n    </DataBinding>\\n  </DataMap>\\n  <GridProperties xmlns:xsd=\"http://www.w3.org/2001/XMLSchema\" xmlns:xsi=\"http://www.w3.org/2001/XMLSchema-instance\">\\n    <BackColor>Window</BackColor>\\n    <GridTextAlign>MiddleCenter</GridTextAlign>\\n    <ChangedCellColor>Pink</ChangedCellColor>\\n    <GridTitleForeColor>Black</GridTitleForeColor>\\n    <GridTitleBackColor>ControlLight</GridTitleBackColor>\\n    <ForeColor>ControlText</ForeColor>\\n    <TitleBarHeight>20</TitleBarHeight>\\n    <ShowGroupDropArea>true</ShowGroupDropArea>\\n    <ShowNavigationBar>true</ShowNavigationBar>\\n  </GridProperties>\\n  <GridSchema>\\n    <GridEngine xmlns:xsd=\"http://www.w3.org/2001/XMLSchema\" xmlns:xsi=\"http://www.w3.org/2001/XMLSchema-instance\">\\n      <MaxNestedFieldRecurseLevel>3</MaxNestedFieldRecurseLevel>\\n      <MaxNestedCollectionRecurseLevel>5</MaxNestedCollectionRecurseLevel>\\n      <TableDescriptor>\\n        <Name>MTAREA</Name>\\n        <GroupedColumns>\\n          <SortColumnDescriptor>\\n            <Name>I__TPNT>TIME</Name>\\n            <SortDirection>Ascending</SortDirection>\\n          </SortColumnDescriptor>\\n        </GroupedColumns>\\n        <SortedColumns></SortedColumns>\\n        <AllowNew>false</AllowNew>\\n        <AllowRemove>false</AllowRemove>\\n        <VisibleColumns>\\n          <GridVisibleColumnDescriptor>\\n            <Name>ID</Name>\\n          </GridVisibleColumnDescriptor>\\n          <GridVisibleColumnDescriptor>\\n            <Name>AWR</Name>\\n          </GridVisibleColumnDescriptor>\\n          <GridVisibleColumnDescriptor>\\n            <Name>RTWTR</Name>\\n          </GridVisibleColumnDescriptor>\\n          <GridVisibleColumnDescriptor>\\n            <Name>COMP</Name>\\n          </GridVisibleColumnDescriptor>\\n          <GridVisibleColumnDescriptor>\\n            <Name>LFVAL</Name>\\n          </GridVisibleColumnDescriptor>\\n          <GridVisibleColumnDescriptor>\\n            <Name>TOTGEN</Name>\\n          </GridVisibleColumnDescriptor>\\n          <GridVisibleColumnDescriptor>\\n            <Name>I__TPNT>TIME</Name>\\n          </GridVisibleColumnDescriptor>\\n        </VisibleColumns>\\n        <Columns>\\n          <GridColumnDescriptor>\\n            <Width>60</Width>\\n            <MappingName>AWR</MappingName>\\n            <AllowDropDownCell>false</AllowDropDownCell>\\n          </GridColumnDescriptor>\\n          <GridColumnDescriptor>\\n            <HeaderText>Estimated Compensation</HeaderText>\\n            <Width>90</Width>\\n            <MappingName>COMP</MappingName>\\n            <Appearance>\\n              <AnyRecordFieldCell>\\n                <Format>\"f2\"</Format>\\n              </AnyRecordFieldCell>\\n            </Appearance>\\n          </GridColumnDescriptor>\\n          <GridColumnDescriptor>\\n            <MappingName>I__TPNT</MappingName>\\n            <ReadOnly>true</ReadOnly>\\n          </GridColumnDescriptor>\\n          <GridColumnDescriptor>\\n            <HeaderText>Area</HeaderText>\\n            <Width>75</Width>\\n            <MappingName>ID</MappingName>\\n            <ReadOnly>true</ReadOnly>\\n            <AllowFilter>true</AllowFilter>\\n          </GridColumnDescriptor>\\n          <GridColumnDescriptor>\\n            <HeaderText>Area LF</HeaderText>\\n            <Width>84</Width>\\n            <MappingName>LFVAL</MappingName>\\n            <ReadOnly>true</ReadOnly>\\n            <Appearance>\\n              <AnyRecordFieldCell>\\n                <Format>\"f2\"</Format>\\n              </AnyRecordFieldCell>\\n            </Appearance>\\n          </GridColumnDescriptor>\\n          <GridColumnDescriptor>\\n            <MappingName>Q</MappingName>\\n          </GridColumnDescriptor>\\n          <GridColumnDescriptor>\\n            <HeaderText>Transaction Schedule</HeaderText>\\n            <Width>90</Width>\\n            <MappingName>RTWTR</MappingName>\\n            <Appearance>\\n              <AnyRecordFieldCell>\\n                <Format>\"f2\"</Format>\\n              </AnyRecordFieldCell>\\n            </Appearance>\\n          </GridColumnDescriptor>\\n          <GridColumnDescriptor>\\n            <HeaderText>Total Gen</HeaderText>\\n            <Width>86</Width>\\n            <MappingName>TOTGEN</MappingName>\\n            <ReadOnly>true</ReadOnly>\\n            <Appearance>\\n              <AnyRecordFieldCell>\\n                <Format>\"f2\"</Format>\\n              </AnyRecordFieldCell>\\n            </Appearance>\\n          </GridColumnDescriptor>\\n          <GridColumnDescriptor>\\n            <HeaderText>Timepoint</HeaderText>\\n            <Width>129</Width>\\n            <MappingName>I__TPNT>TIME</MappingName>\\n            <ReadOnly>true</ReadOnly>\\n            <Appearance>\\n              <AnyRecordFieldCell>\\n                <CellType>\"Static\"</CellType>\\n              </AnyRecordFieldCell>\\n            </Appearance>\\n          </GridColumnDescriptor>\\n        </Columns>\\n        <Appearance>\\n          <AnyRecordFieldCell></AnyRecordFieldCell>\\n          <FilterBarCell>\\n            <CellType>\"CustomFilterBarCell\"</CellType>\\n          </FilterBarCell>\\n        </Appearance>\\n        <TopLevelGroupOptions>\\n          <ShowFilterBar>true</ShowFilterBar>\\n        </TopLevelGroupOptions>\\n        <TableOptions>\\n          <ColumnHeaderRowHeight>32</ColumnHeaderRowHeight>\\n        </TableOptions>\\n      </TableDescriptor>\\n    </GridEngine>\\n  </GridSchema>\\n  <Charts></Charts>\\n  <Layout xmlns:xsd=\"http://www.w3.org/2001/XMLSchema\" xmlns:xsi=\"http://www.w3.org/2001/XMLSchema-instance\">\\n    <Type xmlns=\"http://www.esca.com/GridDisplayDefinition.xsd\">Grid</Type>\\n    <SplitterHeight xmlns=\"http://www.esca.com/GridDisplayDefinition.xsd\">100</SplitterHeight>\\n    <SplitterWidth xmlns=\"http://www.esca.com/GridDisplayDefinition.xsd\">200</SplitterWidth>\\n    <GridDocking xmlns=\"http://www.esca.com/GridDisplayDefinition.xsd\">Fill</GridDocking>\\n  </Layout>\\n  <UserData>\\n    <XmlSerializableStringDictionary xmlns:xsd=\"http://www.w3.org/2001/XMLSchema\" xmlns:xsi=\"http://www.w3.org/2001/XMLSchema-instance\">\\n      <Entries></Entries>\\n    </XmlSerializableStringDictionary>\\n  </UserData>\\n  <WebfgMenus>\\n    <DisplayMenus xmlns:xsd=\"http://www.w3.org/2001/XMLSchema\" xmlns:xsi=\"http://www.w3.org/2001/XMLSchema-instance\" xsi:nil=\"true\"></DisplayMenus>\\n  </WebfgMenus>\\n  <ColumnCellFormats></ColumnCellFormats>\\n</GridDisplayDefinition>'"
      ]
     },
     "execution_count": 7,
     "metadata": {},
     "output_type": "execute_result"
    }
   ],
   "source": [
    "formatter = xmlformatter.Formatter(indent=\"2\", indent_char=\" \", encoding_output=\"ISO-8859-1\", preserve=[\"literal\"])\n",
    "formatter.format_file(\"./igrid/smtnet_tp_area_matrix_ems.grid\")"
   ]
  },
  {
   "cell_type": "code",
   "execution_count": null,
   "metadata": {},
   "outputs": [],
   "source": []
  }
 ],
 "metadata": {
  "kernelspec": {
   "display_name": "Python 3",
   "language": "python",
   "name": "python3"
  },
  "language_info": {
   "codemirror_mode": {
    "name": "ipython",
    "version": 3
   },
   "file_extension": ".py",
   "mimetype": "text/x-python",
   "name": "python",
   "nbconvert_exporter": "python",
   "pygments_lexer": "ipython3",
   "version": "3.7.0"
  }
 },
 "nbformat": 4,
 "nbformat_minor": 2
}
